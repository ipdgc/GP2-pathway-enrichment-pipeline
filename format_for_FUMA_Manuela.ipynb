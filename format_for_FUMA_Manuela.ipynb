{
 "cells": [
  {
   "cell_type": "markdown",
   "metadata": {},
   "source": [
    "**Format PD GWAS summary statistics for FUMA**"
   ]
  },
  {
   "cell_type": "markdown",
   "metadata": {},
   "source": [
    "## Set up and install packages if they are missing"
   ]
  },
  {
   "cell_type": "code",
   "execution_count": 15,
   "metadata": {
    "code_folding": []
   },
   "outputs": [],
   "source": [
    "# Utility routine for installing packages\n",
    "install_if_missing <- function(packages) {\n",
    "    if (length(setdiff(packages, rownames(installed.packages()))) > 0) {\n",
    "        install.packages(setdiff(packages, rownames(installed.packages())))\n",
    "    }\n",
    "}"
   ]
  },
  {
   "cell_type": "code",
   "execution_count": 16,
   "metadata": {},
   "outputs": [
    {
     "name": "stderr",
     "output_type": "stream",
     "text": [
      "Installing packages into ‘/home/jupyter-user/notebooks/packages’\n",
      "(as ‘lib’ is unspecified)\n",
      "\n",
      "also installing the dependency ‘viridisLite’\n",
      "\n",
      "\n"
     ]
    }
   ],
   "source": [
    "install_if_missing(c('tidyverse', 'viridis', 'ggthemes', 'pryr', 'skimr', 'testthat', 'reticulate'))"
   ]
  },
  {
   "cell_type": "markdown",
   "metadata": {},
   "source": [
    "## Load libraries"
   ]
  },
  {
   "cell_type": "code",
   "execution_count": 17,
   "metadata": {},
   "outputs": [
    {
     "name": "stderr",
     "output_type": "stream",
     "text": [
      "Loading required package: viridisLite\n",
      "\n",
      "\n",
      "Attaching package: ‘scales’\n",
      "\n",
      "\n",
      "The following object is masked from ‘package:viridis’:\n",
      "\n",
      "    viridis_pal\n",
      "\n",
      "\n",
      "The following object is masked from ‘package:purrr’:\n",
      "\n",
      "    discard\n",
      "\n",
      "\n",
      "The following object is masked from ‘package:readr’:\n",
      "\n",
      "    col_factor\n",
      "\n",
      "\n",
      "\n",
      "Attaching package: ‘testthat’\n",
      "\n",
      "\n",
      "The following object is masked from ‘package:dplyr’:\n",
      "\n",
      "    matches\n",
      "\n",
      "\n",
      "The following object is masked from ‘package:purrr’:\n",
      "\n",
      "    is_null\n",
      "\n",
      "\n",
      "The following object is masked from ‘package:tidyr’:\n",
      "\n",
      "    matches\n",
      "\n",
      "\n",
      "\n",
      "Attaching package: ‘assertthat’\n",
      "\n",
      "\n",
      "The following object is masked from ‘package:tibble’:\n",
      "\n",
      "    has_name\n",
      "\n",
      "\n",
      "Registered S3 method overwritten by 'pryr':\n",
      "  method      from\n",
      "  print.bytes Rcpp\n",
      "\n",
      "\n",
      "Attaching package: ‘pryr’\n",
      "\n",
      "\n",
      "The following objects are masked from ‘package:purrr’:\n",
      "\n",
      "    compose, partial\n",
      "\n",
      "\n",
      "The following object is masked from ‘package:data.table’:\n",
      "\n",
      "    address\n",
      "\n",
      "\n",
      "\n",
      "Attaching package: ‘skimr’\n",
      "\n",
      "\n",
      "The following object is masked from ‘package:testthat’:\n",
      "\n",
      "    matches\n",
      "\n",
      "\n"
     ]
    }
   ],
   "source": [
    "library(viridis)    # A nice color scheme for plots.\n",
    "library(ggthemes)   # Common themes to change the look and feel of plots.\n",
    "library(scales)     # Graphical scales map data to aesthetics in plots.\n",
    "library(testthat)   # Testing functions.\n",
    "library(assertthat) # Assertion functions.\n",
    "library(pryr)       # Memory usage functions.\n",
    "library(skimr)      # Summary statistics for dataframes.\n",
    "library(bigrquery)  # BigQuery R client.\n",
    "library(tidyverse)  # Data wrangling packages.\n",
    "library(reticulate)  # R Interface to Python\n",
    "\n",
    "library(Ronaldo)    # Leonardo R package.\n",
    "\n",
    "library(data.table) # Data Table package for faster reading and processing\n",
    "\n",
    "# Load reticulate for calling the FireCloud Python API\n",
    "library(reticulate)\n",
    "\n",
    "# Load ggplot2 for graphs\n",
    "library(ggplot2)\n",
    "\n",
    "# Load biqrquery for interacting with BigQuery\n",
    "library(bigrquery)"
   ]
  },
  {
   "cell_type": "code",
   "execution_count": 27,
   "metadata": {},
   "outputs": [
    {
     "name": "stderr",
     "output_type": "stream",
     "text": [
      "* Downloading 'https://repo.anaconda.com/miniconda/Miniconda3-latest-Linux-x86_64.sh' ...\n",
      "\n",
      "* Installing Miniconda -- please wait a moment ...\n",
      "\n",
      "* Miniconda has been successfully installed at '/home/jupyter-user/.local/share/r-miniconda'.\n",
      "\n"
     ]
    },
    {
     "data": {
      "text/html": [
       "'/home/jupyter-user/.local/share/r-miniconda'"
      ],
      "text/latex": [
       "'/home/jupyter-user/.local/share/r-miniconda'"
      ],
      "text/markdown": [
       "'/home/jupyter-user/.local/share/r-miniconda'"
      ],
      "text/plain": [
       "[1] \"/home/jupyter-user/.local/share/r-miniconda\""
      ]
     },
     "metadata": {},
     "output_type": "display_data"
    }
   ],
   "source": [
    "#Install miniconda otherwise the import firecloud.api does not work\n",
    "reticulate::install_miniconda()"
   ]
  },
  {
   "cell_type": "markdown",
   "metadata": {},
   "source": [
    "## Set up environment variables"
   ]
  },
  {
   "cell_type": "code",
   "execution_count": 44,
   "metadata": {},
   "outputs": [],
   "source": [
    "BILLING_PROJECT_ID <- Sys.getenv('GOOGLE_PROJECT')\n",
    "WORKSPACE_NAMESPACE <- Sys.getenv('WORKSPACE_NAMESPACE')\n",
    "WORKSPACE_NAME <- Sys.getenv('WORKSPACE_NAME')\n",
    "WORKSPACE_BUCKET <-  Sys.getenv('WORKSPACE_BUCKET')"
   ]
  },
  {
   "cell_type": "code",
   "execution_count": 45,
   "metadata": {},
   "outputs": [
    {
     "ename": "ERROR",
     "evalue": "Error in py_module_import(module, convert = convert): ModuleNotFoundError: No module named 'firecloud'\n\nDetailed traceback: \n  File \"/usr/local/lib/R/site-library/reticulate/python/rpytools/loader.py\", line 24, in _import_hook\n    level=level\n\n",
     "output_type": "error",
     "traceback": [
      "Error in py_module_import(module, convert = convert): ModuleNotFoundError: No module named 'firecloud'\n\nDetailed traceback: \n  File \"/usr/local/lib/R/site-library/reticulate/python/rpytools/loader.py\", line 24, in _import_hook\n    level=level\n\nTraceback:\n",
      "1. import(\"firecloud.api\")",
      "2. py_module_import(module, convert = convert)"
     ]
    }
   ],
   "source": [
    "#This is not working for me but not needed as we are not accessing the AMP clinical data\n",
    "fapi <- import(\"firecloud.api\")\n",
    "WORKSPACE_ATTRIBUTES <- fapi$get_workspace(WORKSPACE_NAMESPACE, WORKSPACE_NAME)$json()$workspace$attributes\n",
    "\n",
    "GS_CLINICAL_RELEASE_PATH <- WORKSPACE_ATTRIBUTES['gs_path_amp_pd_clinical_release']\n",
    "str_glue('GS_CLINICAL_RELEASE_PATH = {GS_CLINICAL_RELEASE_PATH}')"
   ]
  },
  {
   "cell_type": "markdown",
   "metadata": {},
   "source": [
    "## Set up utility functions"
   ]
  },
  {
   "cell_type": "code",
   "execution_count": 20,
   "metadata": {},
   "outputs": [],
   "source": [
    "# Utility routine for printing a shell command before executing it\n",
    "shell_do <- function(command) {\n",
    "    print(paste('Executing: ', command))\n",
    "    system(command, intern = TRUE)\n",
    "}"
   ]
  },
  {
   "cell_type": "code",
   "execution_count": 21,
   "metadata": {},
   "outputs": [],
   "source": [
    "# Utility routines for reading files from Google Cloud Storage\n",
    "gcs_read_file <- function(path) {\n",
    "    pipe(str_glue('gsutil -u {BILLING_PROJECT_ID} cat {path}'))\n",
    "}\n",
    "gcs_read_csv <- function(path, sep=',') {\n",
    "    readr::read_csv(gcs_read_file(path))\n",
    "}\n",
    "\n",
    "# Utility routines for reading files from Google BigQuery\n",
    "bq_query <- function(query) {\n",
    "    # Return the contents of a query against BigQuery    \n",
    "    return(bigrquery::bq_table_download(\n",
    "        bigrquery::bq_project_query(BILLING_PROJECT_ID, query = query)))\n",
    "}"
   ]
  },
  {
   "cell_type": "markdown",
   "metadata": {},
   "source": [
    "## Read in PD GWAS summary statistics"
   ]
  },
  {
   "cell_type": "code",
   "execution_count": 2,
   "metadata": {},
   "outputs": [],
   "source": [
    "data <- fread(\"~/bin/data_temp/nallsEtAl2019_excluding23andMe_allVariants.tab\", header = T)"
   ]
  },
  {
   "cell_type": "code",
   "execution_count": 19,
   "metadata": {},
   "outputs": [
    {
     "data": {
      "text/html": [
       "<table class=\"dataframe\">\n",
       "<caption>A data.table: 6 × 13</caption>\n",
       "<thead>\n",
       "\t<tr><th scope=col>SNP</th><th scope=col>A1</th><th scope=col>A2</th><th scope=col>freq</th><th scope=col>b</th><th scope=col>se</th><th scope=col>p</th><th scope=col>N_cases</th><th scope=col>N_controls</th><th scope=col>chr</th><th scope=col>bp</th><th scope=col>chr_new</th><th scope=col>total_N</th></tr>\n",
       "\t<tr><th scope=col>&lt;chr&gt;</th><th scope=col>&lt;chr&gt;</th><th scope=col>&lt;chr&gt;</th><th scope=col>&lt;dbl&gt;</th><th scope=col>&lt;dbl&gt;</th><th scope=col>&lt;dbl&gt;</th><th scope=col>&lt;dbl&gt;</th><th scope=col>&lt;int&gt;</th><th scope=col>&lt;int&gt;</th><th scope=col>&lt;chr&gt;</th><th scope=col>&lt;chr&gt;</th><th scope=col>&lt;chr&gt;</th><th scope=col>&lt;int&gt;</th></tr>\n",
       "</thead>\n",
       "<tbody>\n",
       "\t<tr><td>chr11:88249377</td><td>T</td><td>C</td><td>0.9931</td><td> 0.1575</td><td>0.1783</td><td>0.3771</td><td> 7161</td><td>  5356</td><td>chr11</td><td>88249377 </td><td>11</td><td> 12517</td></tr>\n",
       "\t<tr><td>chr1:60320992 </td><td>A</td><td>G</td><td>0.9336</td><td> 0.0605</td><td>0.0456</td><td>0.1846</td><td>26421</td><td>442271</td><td>chr1 </td><td>60320992 </td><td>1 </td><td>468692</td></tr>\n",
       "\t<tr><td>chr2:18069070 </td><td>T</td><td>C</td><td>0.9988</td><td>-0.6774</td><td>1.3519</td><td>0.6163</td><td>  582</td><td>   905</td><td>chr2 </td><td>18069070 </td><td>2 </td><td>  1487</td></tr>\n",
       "\t<tr><td>chr8:135908647</td><td>A</td><td>G</td><td>0.2081</td><td>-0.0358</td><td>0.0273</td><td>0.1887</td><td>26421</td><td>442271</td><td>chr8 </td><td>135908647</td><td>8 </td><td>468692</td></tr>\n",
       "\t<tr><td>chr12:3871714 </td><td>A</td><td>C</td><td>0.9972</td><td> 0.1489</td><td>1.0636</td><td>0.8886</td><td>  749</td><td>   658</td><td>chr12</td><td>3871714  </td><td>12</td><td>  1407</td></tr>\n",
       "\t<tr><td>chr16:77148858</td><td>A</td><td>G</td><td>0.9976</td><td>-0.1213</td><td>0.3874</td><td>0.7543</td><td> 6248</td><td>  4391</td><td>chr16</td><td>77148858 </td><td>16</td><td> 10639</td></tr>\n",
       "</tbody>\n",
       "</table>\n"
      ],
      "text/latex": [
       "A data.table: 6 × 13\n",
       "\\begin{tabular}{lllllllllllll}\n",
       " SNP & A1 & A2 & freq & b & se & p & N\\_cases & N\\_controls & chr & bp & chr\\_new & total\\_N\\\\\n",
       " <chr> & <chr> & <chr> & <dbl> & <dbl> & <dbl> & <dbl> & <int> & <int> & <chr> & <chr> & <chr> & <int>\\\\\n",
       "\\hline\n",
       "\t chr11:88249377 & T & C & 0.9931 &  0.1575 & 0.1783 & 0.3771 &  7161 &   5356 & chr11 & 88249377  & 11 &  12517\\\\\n",
       "\t chr1:60320992  & A & G & 0.9336 &  0.0605 & 0.0456 & 0.1846 & 26421 & 442271 & chr1  & 60320992  & 1  & 468692\\\\\n",
       "\t chr2:18069070  & T & C & 0.9988 & -0.6774 & 1.3519 & 0.6163 &   582 &    905 & chr2  & 18069070  & 2  &   1487\\\\\n",
       "\t chr8:135908647 & A & G & 0.2081 & -0.0358 & 0.0273 & 0.1887 & 26421 & 442271 & chr8  & 135908647 & 8  & 468692\\\\\n",
       "\t chr12:3871714  & A & C & 0.9972 &  0.1489 & 1.0636 & 0.8886 &   749 &    658 & chr12 & 3871714   & 12 &   1407\\\\\n",
       "\t chr16:77148858 & A & G & 0.9976 & -0.1213 & 0.3874 & 0.7543 &  6248 &   4391 & chr16 & 77148858  & 16 &  10639\\\\\n",
       "\\end{tabular}\n"
      ],
      "text/markdown": [
       "\n",
       "A data.table: 6 × 13\n",
       "\n",
       "| SNP &lt;chr&gt; | A1 &lt;chr&gt; | A2 &lt;chr&gt; | freq &lt;dbl&gt; | b &lt;dbl&gt; | se &lt;dbl&gt; | p &lt;dbl&gt; | N_cases &lt;int&gt; | N_controls &lt;int&gt; | chr &lt;chr&gt; | bp &lt;chr&gt; | chr_new &lt;chr&gt; | total_N &lt;int&gt; |\n",
       "|---|---|---|---|---|---|---|---|---|---|---|---|---|\n",
       "| chr11:88249377 | T | C | 0.9931 |  0.1575 | 0.1783 | 0.3771 |  7161 |   5356 | chr11 | 88249377  | 11 |  12517 |\n",
       "| chr1:60320992  | A | G | 0.9336 |  0.0605 | 0.0456 | 0.1846 | 26421 | 442271 | chr1  | 60320992  | 1  | 468692 |\n",
       "| chr2:18069070  | T | C | 0.9988 | -0.6774 | 1.3519 | 0.6163 |   582 |    905 | chr2  | 18069070  | 2  |   1487 |\n",
       "| chr8:135908647 | A | G | 0.2081 | -0.0358 | 0.0273 | 0.1887 | 26421 | 442271 | chr8  | 135908647 | 8  | 468692 |\n",
       "| chr12:3871714  | A | C | 0.9972 |  0.1489 | 1.0636 | 0.8886 |   749 |    658 | chr12 | 3871714   | 12 |   1407 |\n",
       "| chr16:77148858 | A | G | 0.9976 | -0.1213 | 0.3874 | 0.7543 |  6248 |   4391 | chr16 | 77148858  | 16 |  10639 |\n",
       "\n"
      ],
      "text/plain": [
       "  SNP            A1 A2 freq   b       se     p      N_cases N_controls chr  \n",
       "1 chr11:88249377 T  C  0.9931  0.1575 0.1783 0.3771  7161     5356     chr11\n",
       "2 chr1:60320992  A  G  0.9336  0.0605 0.0456 0.1846 26421   442271     chr1 \n",
       "3 chr2:18069070  T  C  0.9988 -0.6774 1.3519 0.6163   582      905     chr2 \n",
       "4 chr8:135908647 A  G  0.2081 -0.0358 0.0273 0.1887 26421   442271     chr8 \n",
       "5 chr12:3871714  A  C  0.9972  0.1489 1.0636 0.8886   749      658     chr12\n",
       "6 chr16:77148858 A  G  0.9976 -0.1213 0.3874 0.7543  6248     4391     chr16\n",
       "  bp        chr_new total_N\n",
       "1 88249377  11       12517 \n",
       "2 60320992  1       468692 \n",
       "3 18069070  2         1487 \n",
       "4 135908647 8       468692 \n",
       "5 3871714   12        1407 \n",
       "6 77148858  16       10639 "
      ]
     },
     "metadata": {},
     "output_type": "display_data"
    }
   ],
   "source": [
    "head(data)"
   ]
  },
  {
   "cell_type": "markdown",
   "metadata": {},
   "source": [
    "## Split SNP column into chr and bp"
   ]
  },
  {
   "cell_type": "code",
   "execution_count": 4,
   "metadata": {},
   "outputs": [],
   "source": [
    "#Data table\n",
    "setDT(data)[, c(\"chr\", \"bp\") := tstrsplit(SNP, \":\")]"
   ]
  },
  {
   "cell_type": "code",
   "execution_count": null,
   "metadata": {},
   "outputs": [],
   "source": [
    "#Dplyr solution taking too long\n",
    "#data <- data %>%\n",
    "#    separate(SNP, into = c(\"chr\", \"bp\"), sep = \":\")"
   ]
  },
  {
   "cell_type": "code",
   "execution_count": 5,
   "metadata": {},
   "outputs": [
    {
     "data": {
      "text/html": [
       "<table class=\"dataframe\">\n",
       "<caption>A data.table: 6 × 11</caption>\n",
       "<thead>\n",
       "\t<tr><th scope=col>SNP</th><th scope=col>A1</th><th scope=col>A2</th><th scope=col>freq</th><th scope=col>b</th><th scope=col>se</th><th scope=col>p</th><th scope=col>N_cases</th><th scope=col>N_controls</th><th scope=col>chr</th><th scope=col>bp</th></tr>\n",
       "\t<tr><th scope=col>&lt;chr&gt;</th><th scope=col>&lt;chr&gt;</th><th scope=col>&lt;chr&gt;</th><th scope=col>&lt;dbl&gt;</th><th scope=col>&lt;dbl&gt;</th><th scope=col>&lt;dbl&gt;</th><th scope=col>&lt;dbl&gt;</th><th scope=col>&lt;int&gt;</th><th scope=col>&lt;int&gt;</th><th scope=col>&lt;chr&gt;</th><th scope=col>&lt;chr&gt;</th></tr>\n",
       "</thead>\n",
       "<tbody>\n",
       "\t<tr><td>chr11:88249377</td><td>T</td><td>C</td><td>0.9931</td><td> 0.1575</td><td>0.1783</td><td>0.3771</td><td> 7161</td><td>  5356</td><td>chr11</td><td>88249377 </td></tr>\n",
       "\t<tr><td>chr1:60320992 </td><td>A</td><td>G</td><td>0.9336</td><td> 0.0605</td><td>0.0456</td><td>0.1846</td><td>26421</td><td>442271</td><td>chr1 </td><td>60320992 </td></tr>\n",
       "\t<tr><td>chr2:18069070 </td><td>T</td><td>C</td><td>0.9988</td><td>-0.6774</td><td>1.3519</td><td>0.6163</td><td>  582</td><td>   905</td><td>chr2 </td><td>18069070 </td></tr>\n",
       "\t<tr><td>chr8:135908647</td><td>A</td><td>G</td><td>0.2081</td><td>-0.0358</td><td>0.0273</td><td>0.1887</td><td>26421</td><td>442271</td><td>chr8 </td><td>135908647</td></tr>\n",
       "\t<tr><td>chr12:3871714 </td><td>A</td><td>C</td><td>0.9972</td><td> 0.1489</td><td>1.0636</td><td>0.8886</td><td>  749</td><td>   658</td><td>chr12</td><td>3871714  </td></tr>\n",
       "\t<tr><td>chr16:77148858</td><td>A</td><td>G</td><td>0.9976</td><td>-0.1213</td><td>0.3874</td><td>0.7543</td><td> 6248</td><td>  4391</td><td>chr16</td><td>77148858 </td></tr>\n",
       "</tbody>\n",
       "</table>\n"
      ],
      "text/latex": [
       "A data.table: 6 × 11\n",
       "\\begin{tabular}{lllllllllll}\n",
       " SNP & A1 & A2 & freq & b & se & p & N\\_cases & N\\_controls & chr & bp\\\\\n",
       " <chr> & <chr> & <chr> & <dbl> & <dbl> & <dbl> & <dbl> & <int> & <int> & <chr> & <chr>\\\\\n",
       "\\hline\n",
       "\t chr11:88249377 & T & C & 0.9931 &  0.1575 & 0.1783 & 0.3771 &  7161 &   5356 & chr11 & 88249377 \\\\\n",
       "\t chr1:60320992  & A & G & 0.9336 &  0.0605 & 0.0456 & 0.1846 & 26421 & 442271 & chr1  & 60320992 \\\\\n",
       "\t chr2:18069070  & T & C & 0.9988 & -0.6774 & 1.3519 & 0.6163 &   582 &    905 & chr2  & 18069070 \\\\\n",
       "\t chr8:135908647 & A & G & 0.2081 & -0.0358 & 0.0273 & 0.1887 & 26421 & 442271 & chr8  & 135908647\\\\\n",
       "\t chr12:3871714  & A & C & 0.9972 &  0.1489 & 1.0636 & 0.8886 &   749 &    658 & chr12 & 3871714  \\\\\n",
       "\t chr16:77148858 & A & G & 0.9976 & -0.1213 & 0.3874 & 0.7543 &  6248 &   4391 & chr16 & 77148858 \\\\\n",
       "\\end{tabular}\n"
      ],
      "text/markdown": [
       "\n",
       "A data.table: 6 × 11\n",
       "\n",
       "| SNP &lt;chr&gt; | A1 &lt;chr&gt; | A2 &lt;chr&gt; | freq &lt;dbl&gt; | b &lt;dbl&gt; | se &lt;dbl&gt; | p &lt;dbl&gt; | N_cases &lt;int&gt; | N_controls &lt;int&gt; | chr &lt;chr&gt; | bp &lt;chr&gt; |\n",
       "|---|---|---|---|---|---|---|---|---|---|---|\n",
       "| chr11:88249377 | T | C | 0.9931 |  0.1575 | 0.1783 | 0.3771 |  7161 |   5356 | chr11 | 88249377  |\n",
       "| chr1:60320992  | A | G | 0.9336 |  0.0605 | 0.0456 | 0.1846 | 26421 | 442271 | chr1  | 60320992  |\n",
       "| chr2:18069070  | T | C | 0.9988 | -0.6774 | 1.3519 | 0.6163 |   582 |    905 | chr2  | 18069070  |\n",
       "| chr8:135908647 | A | G | 0.2081 | -0.0358 | 0.0273 | 0.1887 | 26421 | 442271 | chr8  | 135908647 |\n",
       "| chr12:3871714  | A | C | 0.9972 |  0.1489 | 1.0636 | 0.8886 |   749 |    658 | chr12 | 3871714   |\n",
       "| chr16:77148858 | A | G | 0.9976 | -0.1213 | 0.3874 | 0.7543 |  6248 |   4391 | chr16 | 77148858  |\n",
       "\n"
      ],
      "text/plain": [
       "  SNP            A1 A2 freq   b       se     p      N_cases N_controls chr  \n",
       "1 chr11:88249377 T  C  0.9931  0.1575 0.1783 0.3771  7161     5356     chr11\n",
       "2 chr1:60320992  A  G  0.9336  0.0605 0.0456 0.1846 26421   442271     chr1 \n",
       "3 chr2:18069070  T  C  0.9988 -0.6774 1.3519 0.6163   582      905     chr2 \n",
       "4 chr8:135908647 A  G  0.2081 -0.0358 0.0273 0.1887 26421   442271     chr8 \n",
       "5 chr12:3871714  A  C  0.9972  0.1489 1.0636 0.8886   749      658     chr12\n",
       "6 chr16:77148858 A  G  0.9976 -0.1213 0.3874 0.7543  6248     4391     chr16\n",
       "  bp       \n",
       "1 88249377 \n",
       "2 60320992 \n",
       "3 18069070 \n",
       "4 135908647\n",
       "5 3871714  \n",
       "6 77148858 "
      ]
     },
     "metadata": {},
     "output_type": "display_data"
    }
   ],
   "source": [
    "head(data)"
   ]
  },
  {
   "cell_type": "markdown",
   "metadata": {},
   "source": [
    "## Remove 'chr' text from chromosome column"
   ]
  },
  {
   "cell_type": "code",
   "execution_count": 6,
   "metadata": {},
   "outputs": [],
   "source": [
    "data <- data %>%\n",
    "    mutate(chr_new = gsub(\"chr\", \"\", chr))"
   ]
  },
  {
   "cell_type": "code",
   "execution_count": 7,
   "metadata": {},
   "outputs": [
    {
     "data": {
      "text/html": [
       "<table class=\"dataframe\">\n",
       "<caption>A data.table: 6 × 12</caption>\n",
       "<thead>\n",
       "\t<tr><th scope=col>SNP</th><th scope=col>A1</th><th scope=col>A2</th><th scope=col>freq</th><th scope=col>b</th><th scope=col>se</th><th scope=col>p</th><th scope=col>N_cases</th><th scope=col>N_controls</th><th scope=col>chr</th><th scope=col>bp</th><th scope=col>chr_new</th></tr>\n",
       "\t<tr><th scope=col>&lt;chr&gt;</th><th scope=col>&lt;chr&gt;</th><th scope=col>&lt;chr&gt;</th><th scope=col>&lt;dbl&gt;</th><th scope=col>&lt;dbl&gt;</th><th scope=col>&lt;dbl&gt;</th><th scope=col>&lt;dbl&gt;</th><th scope=col>&lt;int&gt;</th><th scope=col>&lt;int&gt;</th><th scope=col>&lt;chr&gt;</th><th scope=col>&lt;chr&gt;</th><th scope=col>&lt;chr&gt;</th></tr>\n",
       "</thead>\n",
       "<tbody>\n",
       "\t<tr><td>chr11:88249377</td><td>T</td><td>C</td><td>0.9931</td><td> 0.1575</td><td>0.1783</td><td>0.3771</td><td> 7161</td><td>  5356</td><td>chr11</td><td>88249377 </td><td>11</td></tr>\n",
       "\t<tr><td>chr1:60320992 </td><td>A</td><td>G</td><td>0.9336</td><td> 0.0605</td><td>0.0456</td><td>0.1846</td><td>26421</td><td>442271</td><td>chr1 </td><td>60320992 </td><td>1 </td></tr>\n",
       "\t<tr><td>chr2:18069070 </td><td>T</td><td>C</td><td>0.9988</td><td>-0.6774</td><td>1.3519</td><td>0.6163</td><td>  582</td><td>   905</td><td>chr2 </td><td>18069070 </td><td>2 </td></tr>\n",
       "\t<tr><td>chr8:135908647</td><td>A</td><td>G</td><td>0.2081</td><td>-0.0358</td><td>0.0273</td><td>0.1887</td><td>26421</td><td>442271</td><td>chr8 </td><td>135908647</td><td>8 </td></tr>\n",
       "\t<tr><td>chr12:3871714 </td><td>A</td><td>C</td><td>0.9972</td><td> 0.1489</td><td>1.0636</td><td>0.8886</td><td>  749</td><td>   658</td><td>chr12</td><td>3871714  </td><td>12</td></tr>\n",
       "\t<tr><td>chr16:77148858</td><td>A</td><td>G</td><td>0.9976</td><td>-0.1213</td><td>0.3874</td><td>0.7543</td><td> 6248</td><td>  4391</td><td>chr16</td><td>77148858 </td><td>16</td></tr>\n",
       "</tbody>\n",
       "</table>\n"
      ],
      "text/latex": [
       "A data.table: 6 × 12\n",
       "\\begin{tabular}{llllllllllll}\n",
       " SNP & A1 & A2 & freq & b & se & p & N\\_cases & N\\_controls & chr & bp & chr\\_new\\\\\n",
       " <chr> & <chr> & <chr> & <dbl> & <dbl> & <dbl> & <dbl> & <int> & <int> & <chr> & <chr> & <chr>\\\\\n",
       "\\hline\n",
       "\t chr11:88249377 & T & C & 0.9931 &  0.1575 & 0.1783 & 0.3771 &  7161 &   5356 & chr11 & 88249377  & 11\\\\\n",
       "\t chr1:60320992  & A & G & 0.9336 &  0.0605 & 0.0456 & 0.1846 & 26421 & 442271 & chr1  & 60320992  & 1 \\\\\n",
       "\t chr2:18069070  & T & C & 0.9988 & -0.6774 & 1.3519 & 0.6163 &   582 &    905 & chr2  & 18069070  & 2 \\\\\n",
       "\t chr8:135908647 & A & G & 0.2081 & -0.0358 & 0.0273 & 0.1887 & 26421 & 442271 & chr8  & 135908647 & 8 \\\\\n",
       "\t chr12:3871714  & A & C & 0.9972 &  0.1489 & 1.0636 & 0.8886 &   749 &    658 & chr12 & 3871714   & 12\\\\\n",
       "\t chr16:77148858 & A & G & 0.9976 & -0.1213 & 0.3874 & 0.7543 &  6248 &   4391 & chr16 & 77148858  & 16\\\\\n",
       "\\end{tabular}\n"
      ],
      "text/markdown": [
       "\n",
       "A data.table: 6 × 12\n",
       "\n",
       "| SNP &lt;chr&gt; | A1 &lt;chr&gt; | A2 &lt;chr&gt; | freq &lt;dbl&gt; | b &lt;dbl&gt; | se &lt;dbl&gt; | p &lt;dbl&gt; | N_cases &lt;int&gt; | N_controls &lt;int&gt; | chr &lt;chr&gt; | bp &lt;chr&gt; | chr_new &lt;chr&gt; |\n",
       "|---|---|---|---|---|---|---|---|---|---|---|---|\n",
       "| chr11:88249377 | T | C | 0.9931 |  0.1575 | 0.1783 | 0.3771 |  7161 |   5356 | chr11 | 88249377  | 11 |\n",
       "| chr1:60320992  | A | G | 0.9336 |  0.0605 | 0.0456 | 0.1846 | 26421 | 442271 | chr1  | 60320992  | 1  |\n",
       "| chr2:18069070  | T | C | 0.9988 | -0.6774 | 1.3519 | 0.6163 |   582 |    905 | chr2  | 18069070  | 2  |\n",
       "| chr8:135908647 | A | G | 0.2081 | -0.0358 | 0.0273 | 0.1887 | 26421 | 442271 | chr8  | 135908647 | 8  |\n",
       "| chr12:3871714  | A | C | 0.9972 |  0.1489 | 1.0636 | 0.8886 |   749 |    658 | chr12 | 3871714   | 12 |\n",
       "| chr16:77148858 | A | G | 0.9976 | -0.1213 | 0.3874 | 0.7543 |  6248 |   4391 | chr16 | 77148858  | 16 |\n",
       "\n"
      ],
      "text/plain": [
       "  SNP            A1 A2 freq   b       se     p      N_cases N_controls chr  \n",
       "1 chr11:88249377 T  C  0.9931  0.1575 0.1783 0.3771  7161     5356     chr11\n",
       "2 chr1:60320992  A  G  0.9336  0.0605 0.0456 0.1846 26421   442271     chr1 \n",
       "3 chr2:18069070  T  C  0.9988 -0.6774 1.3519 0.6163   582      905     chr2 \n",
       "4 chr8:135908647 A  G  0.2081 -0.0358 0.0273 0.1887 26421   442271     chr8 \n",
       "5 chr12:3871714  A  C  0.9972  0.1489 1.0636 0.8886   749      658     chr12\n",
       "6 chr16:77148858 A  G  0.9976 -0.1213 0.3874 0.7543  6248     4391     chr16\n",
       "  bp        chr_new\n",
       "1 88249377  11     \n",
       "2 60320992  1      \n",
       "3 18069070  2      \n",
       "4 135908647 8      \n",
       "5 3871714   12     \n",
       "6 77148858  16     "
      ]
     },
     "metadata": {},
     "output_type": "display_data"
    }
   ],
   "source": [
    "head(data)"
   ]
  },
  {
   "cell_type": "markdown",
   "metadata": {},
   "source": [
    "## Make a column for total N (cases + controls)"
   ]
  },
  {
   "cell_type": "code",
   "execution_count": 8,
   "metadata": {},
   "outputs": [],
   "source": [
    "data <- data %>%\n",
    "    mutate(total_N = N_cases + N_controls)"
   ]
  },
  {
   "cell_type": "code",
   "execution_count": 9,
   "metadata": {},
   "outputs": [
    {
     "data": {
      "text/html": [
       "<table class=\"dataframe\">\n",
       "<caption>A data.table: 6 × 13</caption>\n",
       "<thead>\n",
       "\t<tr><th scope=col>SNP</th><th scope=col>A1</th><th scope=col>A2</th><th scope=col>freq</th><th scope=col>b</th><th scope=col>se</th><th scope=col>p</th><th scope=col>N_cases</th><th scope=col>N_controls</th><th scope=col>chr</th><th scope=col>bp</th><th scope=col>chr_new</th><th scope=col>total_N</th></tr>\n",
       "\t<tr><th scope=col>&lt;chr&gt;</th><th scope=col>&lt;chr&gt;</th><th scope=col>&lt;chr&gt;</th><th scope=col>&lt;dbl&gt;</th><th scope=col>&lt;dbl&gt;</th><th scope=col>&lt;dbl&gt;</th><th scope=col>&lt;dbl&gt;</th><th scope=col>&lt;int&gt;</th><th scope=col>&lt;int&gt;</th><th scope=col>&lt;chr&gt;</th><th scope=col>&lt;chr&gt;</th><th scope=col>&lt;chr&gt;</th><th scope=col>&lt;int&gt;</th></tr>\n",
       "</thead>\n",
       "<tbody>\n",
       "\t<tr><td>chr11:88249377</td><td>T</td><td>C</td><td>0.9931</td><td> 0.1575</td><td>0.1783</td><td>0.3771</td><td> 7161</td><td>  5356</td><td>chr11</td><td>88249377 </td><td>11</td><td> 12517</td></tr>\n",
       "\t<tr><td>chr1:60320992 </td><td>A</td><td>G</td><td>0.9336</td><td> 0.0605</td><td>0.0456</td><td>0.1846</td><td>26421</td><td>442271</td><td>chr1 </td><td>60320992 </td><td>1 </td><td>468692</td></tr>\n",
       "\t<tr><td>chr2:18069070 </td><td>T</td><td>C</td><td>0.9988</td><td>-0.6774</td><td>1.3519</td><td>0.6163</td><td>  582</td><td>   905</td><td>chr2 </td><td>18069070 </td><td>2 </td><td>  1487</td></tr>\n",
       "\t<tr><td>chr8:135908647</td><td>A</td><td>G</td><td>0.2081</td><td>-0.0358</td><td>0.0273</td><td>0.1887</td><td>26421</td><td>442271</td><td>chr8 </td><td>135908647</td><td>8 </td><td>468692</td></tr>\n",
       "\t<tr><td>chr12:3871714 </td><td>A</td><td>C</td><td>0.9972</td><td> 0.1489</td><td>1.0636</td><td>0.8886</td><td>  749</td><td>   658</td><td>chr12</td><td>3871714  </td><td>12</td><td>  1407</td></tr>\n",
       "\t<tr><td>chr16:77148858</td><td>A</td><td>G</td><td>0.9976</td><td>-0.1213</td><td>0.3874</td><td>0.7543</td><td> 6248</td><td>  4391</td><td>chr16</td><td>77148858 </td><td>16</td><td> 10639</td></tr>\n",
       "</tbody>\n",
       "</table>\n"
      ],
      "text/latex": [
       "A data.table: 6 × 13\n",
       "\\begin{tabular}{lllllllllllll}\n",
       " SNP & A1 & A2 & freq & b & se & p & N\\_cases & N\\_controls & chr & bp & chr\\_new & total\\_N\\\\\n",
       " <chr> & <chr> & <chr> & <dbl> & <dbl> & <dbl> & <dbl> & <int> & <int> & <chr> & <chr> & <chr> & <int>\\\\\n",
       "\\hline\n",
       "\t chr11:88249377 & T & C & 0.9931 &  0.1575 & 0.1783 & 0.3771 &  7161 &   5356 & chr11 & 88249377  & 11 &  12517\\\\\n",
       "\t chr1:60320992  & A & G & 0.9336 &  0.0605 & 0.0456 & 0.1846 & 26421 & 442271 & chr1  & 60320992  & 1  & 468692\\\\\n",
       "\t chr2:18069070  & T & C & 0.9988 & -0.6774 & 1.3519 & 0.6163 &   582 &    905 & chr2  & 18069070  & 2  &   1487\\\\\n",
       "\t chr8:135908647 & A & G & 0.2081 & -0.0358 & 0.0273 & 0.1887 & 26421 & 442271 & chr8  & 135908647 & 8  & 468692\\\\\n",
       "\t chr12:3871714  & A & C & 0.9972 &  0.1489 & 1.0636 & 0.8886 &   749 &    658 & chr12 & 3871714   & 12 &   1407\\\\\n",
       "\t chr16:77148858 & A & G & 0.9976 & -0.1213 & 0.3874 & 0.7543 &  6248 &   4391 & chr16 & 77148858  & 16 &  10639\\\\\n",
       "\\end{tabular}\n"
      ],
      "text/markdown": [
       "\n",
       "A data.table: 6 × 13\n",
       "\n",
       "| SNP &lt;chr&gt; | A1 &lt;chr&gt; | A2 &lt;chr&gt; | freq &lt;dbl&gt; | b &lt;dbl&gt; | se &lt;dbl&gt; | p &lt;dbl&gt; | N_cases &lt;int&gt; | N_controls &lt;int&gt; | chr &lt;chr&gt; | bp &lt;chr&gt; | chr_new &lt;chr&gt; | total_N &lt;int&gt; |\n",
       "|---|---|---|---|---|---|---|---|---|---|---|---|---|\n",
       "| chr11:88249377 | T | C | 0.9931 |  0.1575 | 0.1783 | 0.3771 |  7161 |   5356 | chr11 | 88249377  | 11 |  12517 |\n",
       "| chr1:60320992  | A | G | 0.9336 |  0.0605 | 0.0456 | 0.1846 | 26421 | 442271 | chr1  | 60320992  | 1  | 468692 |\n",
       "| chr2:18069070  | T | C | 0.9988 | -0.6774 | 1.3519 | 0.6163 |   582 |    905 | chr2  | 18069070  | 2  |   1487 |\n",
       "| chr8:135908647 | A | G | 0.2081 | -0.0358 | 0.0273 | 0.1887 | 26421 | 442271 | chr8  | 135908647 | 8  | 468692 |\n",
       "| chr12:3871714  | A | C | 0.9972 |  0.1489 | 1.0636 | 0.8886 |   749 |    658 | chr12 | 3871714   | 12 |   1407 |\n",
       "| chr16:77148858 | A | G | 0.9976 | -0.1213 | 0.3874 | 0.7543 |  6248 |   4391 | chr16 | 77148858  | 16 |  10639 |\n",
       "\n"
      ],
      "text/plain": [
       "  SNP            A1 A2 freq   b       se     p      N_cases N_controls chr  \n",
       "1 chr11:88249377 T  C  0.9931  0.1575 0.1783 0.3771  7161     5356     chr11\n",
       "2 chr1:60320992  A  G  0.9336  0.0605 0.0456 0.1846 26421   442271     chr1 \n",
       "3 chr2:18069070  T  C  0.9988 -0.6774 1.3519 0.6163   582      905     chr2 \n",
       "4 chr8:135908647 A  G  0.2081 -0.0358 0.0273 0.1887 26421   442271     chr8 \n",
       "5 chr12:3871714  A  C  0.9972  0.1489 1.0636 0.8886   749      658     chr12\n",
       "6 chr16:77148858 A  G  0.9976 -0.1213 0.3874 0.7543  6248     4391     chr16\n",
       "  bp        chr_new total_N\n",
       "1 88249377  11       12517 \n",
       "2 60320992  1       468692 \n",
       "3 18069070  2         1487 \n",
       "4 135908647 8       468692 \n",
       "5 3871714   12        1407 \n",
       "6 77148858  16       10639 "
      ]
     },
     "metadata": {},
     "output_type": "display_data"
    }
   ],
   "source": [
    "head(data)"
   ]
  },
  {
   "cell_type": "markdown",
   "metadata": {},
   "source": [
    "## Select relevant columns and export as .txt for FUMA"
   ]
  },
  {
   "cell_type": "code",
   "execution_count": 10,
   "metadata": {},
   "outputs": [],
   "source": [
    "export <- data %>%\n",
    "    select(chr_new, bp, p, A1, A2, b, se, total_N) %>%\n",
    "    rename(chr = chr_new)"
   ]
  },
  {
   "cell_type": "code",
   "execution_count": 11,
   "metadata": {},
   "outputs": [
    {
     "data": {
      "text/html": [
       "<table class=\"dataframe\">\n",
       "<caption>A data.table: 6 × 8</caption>\n",
       "<thead>\n",
       "\t<tr><th scope=col>chr</th><th scope=col>bp</th><th scope=col>p</th><th scope=col>A1</th><th scope=col>A2</th><th scope=col>b</th><th scope=col>se</th><th scope=col>total_N</th></tr>\n",
       "\t<tr><th scope=col>&lt;chr&gt;</th><th scope=col>&lt;chr&gt;</th><th scope=col>&lt;dbl&gt;</th><th scope=col>&lt;chr&gt;</th><th scope=col>&lt;chr&gt;</th><th scope=col>&lt;dbl&gt;</th><th scope=col>&lt;dbl&gt;</th><th scope=col>&lt;int&gt;</th></tr>\n",
       "</thead>\n",
       "<tbody>\n",
       "\t<tr><td>11</td><td>88249377 </td><td>0.3771</td><td>T</td><td>C</td><td> 0.1575</td><td>0.1783</td><td> 12517</td></tr>\n",
       "\t<tr><td>1 </td><td>60320992 </td><td>0.1846</td><td>A</td><td>G</td><td> 0.0605</td><td>0.0456</td><td>468692</td></tr>\n",
       "\t<tr><td>2 </td><td>18069070 </td><td>0.6163</td><td>T</td><td>C</td><td>-0.6774</td><td>1.3519</td><td>  1487</td></tr>\n",
       "\t<tr><td>8 </td><td>135908647</td><td>0.1887</td><td>A</td><td>G</td><td>-0.0358</td><td>0.0273</td><td>468692</td></tr>\n",
       "\t<tr><td>12</td><td>3871714  </td><td>0.8886</td><td>A</td><td>C</td><td> 0.1489</td><td>1.0636</td><td>  1407</td></tr>\n",
       "\t<tr><td>16</td><td>77148858 </td><td>0.7543</td><td>A</td><td>G</td><td>-0.1213</td><td>0.3874</td><td> 10639</td></tr>\n",
       "</tbody>\n",
       "</table>\n"
      ],
      "text/latex": [
       "A data.table: 6 × 8\n",
       "\\begin{tabular}{llllllll}\n",
       " chr & bp & p & A1 & A2 & b & se & total\\_N\\\\\n",
       " <chr> & <chr> & <dbl> & <chr> & <chr> & <dbl> & <dbl> & <int>\\\\\n",
       "\\hline\n",
       "\t 11 & 88249377  & 0.3771 & T & C &  0.1575 & 0.1783 &  12517\\\\\n",
       "\t 1  & 60320992  & 0.1846 & A & G &  0.0605 & 0.0456 & 468692\\\\\n",
       "\t 2  & 18069070  & 0.6163 & T & C & -0.6774 & 1.3519 &   1487\\\\\n",
       "\t 8  & 135908647 & 0.1887 & A & G & -0.0358 & 0.0273 & 468692\\\\\n",
       "\t 12 & 3871714   & 0.8886 & A & C &  0.1489 & 1.0636 &   1407\\\\\n",
       "\t 16 & 77148858  & 0.7543 & A & G & -0.1213 & 0.3874 &  10639\\\\\n",
       "\\end{tabular}\n"
      ],
      "text/markdown": [
       "\n",
       "A data.table: 6 × 8\n",
       "\n",
       "| chr &lt;chr&gt; | bp &lt;chr&gt; | p &lt;dbl&gt; | A1 &lt;chr&gt; | A2 &lt;chr&gt; | b &lt;dbl&gt; | se &lt;dbl&gt; | total_N &lt;int&gt; |\n",
       "|---|---|---|---|---|---|---|---|\n",
       "| 11 | 88249377  | 0.3771 | T | C |  0.1575 | 0.1783 |  12517 |\n",
       "| 1  | 60320992  | 0.1846 | A | G |  0.0605 | 0.0456 | 468692 |\n",
       "| 2  | 18069070  | 0.6163 | T | C | -0.6774 | 1.3519 |   1487 |\n",
       "| 8  | 135908647 | 0.1887 | A | G | -0.0358 | 0.0273 | 468692 |\n",
       "| 12 | 3871714   | 0.8886 | A | C |  0.1489 | 1.0636 |   1407 |\n",
       "| 16 | 77148858  | 0.7543 | A | G | -0.1213 | 0.3874 |  10639 |\n",
       "\n"
      ],
      "text/plain": [
       "  chr bp        p      A1 A2 b       se     total_N\n",
       "1 11  88249377  0.3771 T  C   0.1575 0.1783  12517 \n",
       "2 1   60320992  0.1846 A  G   0.0605 0.0456 468692 \n",
       "3 2   18069070  0.6163 T  C  -0.6774 1.3519   1487 \n",
       "4 8   135908647 0.1887 A  G  -0.0358 0.0273 468692 \n",
       "5 12  3871714   0.8886 A  C   0.1489 1.0636   1407 \n",
       "6 16  77148858  0.7543 A  G  -0.1213 0.3874  10639 "
      ]
     },
     "metadata": {},
     "output_type": "display_data"
    }
   ],
   "source": [
    "head(export)"
   ]
  },
  {
   "cell_type": "code",
   "execution_count": 35,
   "metadata": {},
   "outputs": [],
   "source": [
    "fwrite(export, \"~/bin/data_temp/PDGWAS_for_FUMA_MT.txt\", quote = F, col.names = T, row.names = F, sep = \"\\t\")"
   ]
  },
  {
   "cell_type": "markdown",
   "metadata": {},
   "source": [
    "## Zip txt file and export formatted file to workspace bucket"
   ]
  },
  {
   "cell_type": "code",
   "execution_count": 54,
   "metadata": {},
   "outputs": [
    {
     "data": {
      "text/html": [
       "<style>\n",
       ".list-inline {list-style: none; margin:0; padding: 0}\n",
       ".list-inline>li {display: inline-block}\n",
       ".list-inline>li:not(:last-child)::after {content: \"\\00b7\"; padding: 0 .5ex}\n",
       "</style>\n",
       "<ol class=list-inline><li>'nallsEtAl2019_excluding23andMe_allVariants.tab'</li><li>'nallsEtAl2019_excluding23andMe_allVariants.tab.zip'</li><li>'PDGWAS_for_FUMA_MT.txt'</li><li>'PDGWAS_for_FUMA_MT.txt.zip'</li><li>'test.zip'</li></ol>\n"
      ],
      "text/latex": [
       "\\begin{enumerate*}\n",
       "\\item 'nallsEtAl2019\\_excluding23andMe\\_allVariants.tab'\n",
       "\\item 'nallsEtAl2019\\_excluding23andMe\\_allVariants.tab.zip'\n",
       "\\item 'PDGWAS\\_for\\_FUMA\\_MT.txt'\n",
       "\\item 'PDGWAS\\_for\\_FUMA\\_MT.txt.zip'\n",
       "\\item 'test.zip'\n",
       "\\end{enumerate*}\n"
      ],
      "text/markdown": [
       "1. 'nallsEtAl2019_excluding23andMe_allVariants.tab'\n",
       "2. 'nallsEtAl2019_excluding23andMe_allVariants.tab.zip'\n",
       "3. 'PDGWAS_for_FUMA_MT.txt'\n",
       "4. 'PDGWAS_for_FUMA_MT.txt.zip'\n",
       "5. 'test.zip'\n",
       "\n",
       "\n"
      ],
      "text/plain": [
       "[1] \"nallsEtAl2019_excluding23andMe_allVariants.tab\"    \n",
       "[2] \"nallsEtAl2019_excluding23andMe_allVariants.tab.zip\"\n",
       "[3] \"PDGWAS_for_FUMA_MT.txt\"                            \n",
       "[4] \"PDGWAS_for_FUMA_MT.txt.zip\"                        \n",
       "[5] \"test.zip\"                                          "
      ]
     },
     "metadata": {},
     "output_type": "display_data"
    }
   ],
   "source": [
    "system('ls ~/bin/data_temp/', intern=TRUE) #List files in ~/bin/data_temp/"
   ]
  },
  {
   "cell_type": "code",
   "execution_count": 53,
   "metadata": {},
   "outputs": [
    {
     "data": {
      "text/html": [
       "<span style=white-space:pre-wrap>'  adding: home/jupyter-user/bin/data_temp/PDGWAS_for_FUMA_MT.txt (deflated 61%)'</span>"
      ],
      "text/latex": [
       "'  adding: home/jupyter-user/bin/data\\_temp/PDGWAS\\_for\\_FUMA\\_MT.txt (deflated 61\\%)'"
      ],
      "text/markdown": [
       "<span style=white-space:pre-wrap>'  adding: home/jupyter-user/bin/data_temp/PDGWAS_for_FUMA_MT.txt (deflated 61%)'</span>"
      ],
      "text/plain": [
       "[1] \"  adding: home/jupyter-user/bin/data_temp/PDGWAS_for_FUMA_MT.txt (deflated 61%)\""
      ]
     },
     "metadata": {},
     "output_type": "display_data"
    }
   ],
   "source": [
    "system('zip ~/bin/data_temp/PDGWAS_for_FUMA_MT.txt.zip ~/bin/data_temp/PDGWAS_for_FUMA_MT.txt', intern=TRUE)\n",
    "#Zip txt file "
   ]
  },
  {
   "cell_type": "code",
   "execution_count": 46,
   "metadata": {},
   "outputs": [
    {
     "name": "stdout",
     "output_type": "stream",
     "text": [
      "[1] \"Executing:  gsutil -u gp2-ipdgc-hackathon cp -r ~/bin/data_temp/PDGWAS_for_FUMA_MT.txt.zip gs://fc-secure-b9f9d17f-b38c-407d-85e0-7a759f13cea0\"\n"
     ]
    },
    {
     "data": {
      "text/html": [],
      "text/latex": [],
      "text/markdown": [],
      "text/plain": [
       "character(0)"
      ]
     },
     "metadata": {},
     "output_type": "display_data"
    }
   ],
   "source": [
    "shell_do(str_glue('gsutil -u {BILLING_PROJECT_ID} cp -r ~/bin/data_temp/PDGWAS_for_FUMA_MT.txt.zip {WORKSPACE_BUCKET}'))\n",
    "#Copy the final formatted txt.zip file to the workspace bucket so we can download it"
   ]
  }
 ],
 "metadata": {
  "kernelspec": {
   "display_name": "R",
   "language": "R",
   "name": "ir"
  },
  "language_info": {
   "codemirror_mode": "r",
   "file_extension": ".r",
   "mimetype": "text/x-r-source",
   "name": "R",
   "pygments_lexer": "r",
   "version": "4.0.3"
  },
  "toc": {
   "base_numbering": 1,
   "nav_menu": {},
   "number_sections": true,
   "sideBar": true,
   "skip_h1_title": false,
   "title_cell": "Table of Contents",
   "title_sidebar": "Contents",
   "toc_cell": false,
   "toc_position": {},
   "toc_section_display": true,
   "toc_window_display": false
  }
 },
 "nbformat": 4,
 "nbformat_minor": 2
}
